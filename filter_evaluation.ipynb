{
 "cells": [
  {
   "cell_type": "code",
   "execution_count": 30,
   "metadata": {},
   "outputs": [
    {
     "data": {},
     "execution_count": 30,
     "metadata": {},
     "output_type": "execute_result"
    }
   ],
   "source": [
    "import numpy as np\n",
    "import pandas as pd\n",
    "import matplotlib.pyplot as plt\n",
    "import skimage as ski\n",
    "import bm3d\n",
    "import importlib\n",
    "import os\n",
    "import optics as op\n",
    "import seaborn as sns\n",
    "from noise import gauss_noise, poisson_noise, salt_pepper_noise, random_noise\n",
    "importlib.reload(op)"
   ]
  },
  {
   "cell_type": "code",
   "execution_count": 35,
   "metadata": {},
   "outputs": [
    {
     "data": {},
     "metadata": {},
     "output_type": "display_data"
    }
   ],
   "source": [
    "# Load the clean reference image\n",
    "original = ski.color.rgb2gray(ski.io.imread('source_images/Synthetic512.png'))\n",
    "clean_sim = ski.io.imread('output_images/synthetic_grated_256_sim.tif')[:, :, 0]\n",
    "metric = clean_sim\n",
    "\n",
    "# Noise types and intensity levels\n",
    "noise_types = ['gaussian_noise', 'poisson_noise', 'saltpepper_noise']\n",
    "intensities = ['1percent_noise', '5percent_noise', '10percent_noise', '20percent_noise']\n",
    "\n",
    "# Filters used for denoising\n",
    "filter_names = ['wiener', 'tv', 'bm3d', 'rl']\n",
    "image_prefix = 'synthetic_grated_256_sim'\n",
    "\n",
    "# Data storage\n",
    "results = []\n",
    "\n",
    "# Iterate over noise types\n",
    "for noise in noise_types:\n",
    "    for intensity in intensities:\n",
    "        folder_path = f'output_images/{noise}/{intensity}'\n",
    "        \n",
    "        # Load noisy image\n",
    "        noisy_image_path = os.path.join(folder_path, 'noisy_image_256_sim.tif')\n",
    "        if not os.path.exists(noisy_image_path):\n",
    "            continue  # Skip if noisy image is missing\n",
    "        \n",
    "        noisy_sim = ski.io.imread(noisy_image_path)[:, :, 0]\n",
    "        \n",
    "        # Compute PSNR and SSIM for noisy image\n",
    "        noisy_PSNR = ski.metrics.peak_signal_noise_ratio(metric, noisy_sim)\n",
    "        noisy_SSIM = ski.metrics.structural_similarity(metric, noisy_sim, data_range=1)\n",
    "        \n",
    "        results.append([noise, intensity, 'Noisy', noisy_PSNR, noisy_SSIM])\n",
    "        \n",
    "        # Compute for each filter\n",
    "        for filter_type in filter_names:\n",
    "            filter_image_path = os.path.join(folder_path, f'{filter_type}_{image_prefix}.tif')\n",
    "            if os.path.exists(filter_image_path):\n",
    "                filtered_sim = ski.io.imread(filter_image_path)[:, :, 0]\n",
    "                \n",
    "                psnr_value = ski.metrics.peak_signal_noise_ratio(metric, filtered_sim)\n",
    "                ssim_value = ski.metrics.structural_similarity(metric, filtered_sim, data_range=1)\n",
    "                \n",
    "                results.append([noise, intensity, filter_type, psnr_value, ssim_value])\n",
    "\n",
    "# Convert results into a DataFrame\n",
    "df = pd.DataFrame(results, columns=['Noise Type', 'Intensity', 'Filter', 'PSNR', 'SSIM'])\n",
    "\n",
    "# Save results\n",
    "df.to_csv('output_images/denoising_results.csv', index=False)\n",
    "\n",
    "# Display results\n",
    "display(df)\n"
   ]
  },
  {
   "cell_type": "code",
   "execution_count": 32,
   "metadata": {},
   "outputs": [
    {
     "data": {},
     "metadata": {},
     "output_type": "display_data"
    },
    {
     "data": {},
     "metadata": {},
     "output_type": "display_data"
    },
    {
     "data": {},
     "metadata": {},
     "output_type": "display_data"
    },
    {
     "data": {},
     "metadata": {},
     "output_type": "display_data"
    },
    {
     "data": {},
     "metadata": {},
     "output_type": "display_data"
    },
    {
     "data": {},
     "metadata": {},
     "output_type": "display_data"
    },
    {
     "data": {},
     "metadata": {},
     "output_type": "display_data"
    },
    {
     "data": {},
     "metadata": {},
     "output_type": "display_data"
    },
    {
     "data": {},
     "metadata": {},
     "output_type": "display_data"
    },
    {
     "data": {},
     "metadata": {},
     "output_type": "display_data"
    },
    {
     "data": {},
     "metadata": {},
     "output_type": "display_data"
    },
    {
     "data": {},
     "metadata": {},
     "output_type": "display_data"
    }
   ],
   "source": [
    "# Set Seaborn style for better aesthetics\n",
    "sns.set(style=\"white\")\n",
    "\n",
    "# Define custom colors\n",
    "psnr_color = \"#779ECC\"  # Modern blue\n",
    "ssim_color = \"#FF985A\"  # Modern orange\n",
    "noisy_psnr_color = \"#1f77b4\"  # Darker blue for noisy threshold\n",
    "noisy_ssim_color = \"#d62728\"  # Dark red for noisy threshold\n",
    "\n",
    "# Iterate over each noise type and intensity\n",
    "for noise in df['Noise Type'].unique():\n",
    "    for intensity in df['Intensity'].unique():\n",
    "        # Filter data for the specific noise type and intensity\n",
    "        sub_df = df[(df['Noise Type'] == noise) & (df['Intensity'] == intensity)]\n",
    "        \n",
    "        if sub_df.empty:\n",
    "            continue  # Skip if no data\n",
    "        \n",
    "        # Extract noisy image PSNR and SSIM values for reference lines\n",
    "        noisy_psnr = sub_df[sub_df['Filter'] == 'Noisy']['PSNR'].values[0]\n",
    "        noisy_ssim = sub_df[sub_df['Filter'] == 'Noisy']['SSIM'].values[0]\n",
    "\n",
    "        # Remove noisy row for bar plot\n",
    "        sub_df = sub_df[sub_df['Filter'] != 'Noisy']\n",
    "\n",
    "        # Create figure and axis\n",
    "        fig, ax1 = plt.subplots(figsize=(8, 5))\n",
    "\n",
    "        # Bar width and x positions\n",
    "        bar_width = 0.4\n",
    "        x = np.arange(len(sub_df['Filter']))\n",
    "\n",
    "        # PSNR Bars (Left Y-axis)\n",
    "        ax1.set_ylabel('PSNR', color=psnr_color, fontsize=12, fontweight='bold')\n",
    "        ax1.set_ylim(0, 60)\n",
    "        ax1.bar(x - bar_width / 2, sub_df['PSNR'], width=bar_width, color=psnr_color, label='PSNR', alpha=0.9, edgecolor=\"black\", linewidth=1)\n",
    "\n",
    "        # Noisy Image PSNR Threshold (Dotted Line)\n",
    "        ax1.axhline(y=noisy_psnr, color=noisy_psnr_color, linestyle='dashed', linewidth=2, label='Noisy PSNR')\n",
    "\n",
    "        # SSIM Bars (Right Y-axis)\n",
    "        ax2 = ax1.twinx()\n",
    "        ax2.set_ylabel('SSIM', color=ssim_color, fontsize=12, fontweight='bold')\n",
    "        ax2.set_ylim(0, 1.2)\n",
    "        ax2.bar(x + bar_width / 2, sub_df['SSIM'], width=bar_width, color=ssim_color, label='SSIM', alpha=0.9, edgecolor=\"black\", linewidth=1)\n",
    "\n",
    "        # Noisy Image SSIM Threshold (Dotted Line)\n",
    "        ax2.axhline(y=noisy_ssim, color=noisy_ssim_color, linestyle='dashed', linewidth=2, label='Noisy SSIM')\n",
    "\n",
    "        # X-axis labels\n",
    "        ax1.set_xticks(x)\n",
    "        ax1.set_xticklabels(sub_df['Filter'], fontsize=11, fontweight='bold')\n",
    "\n",
    "        # Titles and legends\n",
    "        plt.title(f'PSNR & SSIM for {noise} - {intensity}', fontsize=14, fontweight='bold', color=\"black\")\n",
    "        ax1.legend(loc='upper left', fontsize=10)\n",
    "        ax2.legend(loc='upper right', fontsize=10)\n",
    "\n",
    "        # Improve layout\n",
    "        plt.tight_layout()\n",
    "\n",
    "        # Save and show\n",
    "        save_path = f'output_images/histograms/{noise}_{intensity}.png'\n",
    "        os.makedirs(os.path.dirname(save_path), exist_ok=True)\n",
    "        plt.savefig(save_path, dpi=300, bbox_inches='tight')\n",
    "        plt.show()"
   ]
  },
  {
   "cell_type": "code",
   "execution_count": 33,
   "metadata": {},
   "outputs": [
    {
     "data": {},
     "execution_count": 33,
     "metadata": {},
     "output_type": "execute_result"
    }
   ],
   "source": [
    "plt.style.available"
   ]
  },
  {
   "cell_type": "code",
   "execution_count": 34,
   "metadata": {},
   "outputs": [
    {
     "data": {},
     "metadata": {},
     "output_type": "display_data"
    },
    {
     "data": {},
     "metadata": {},
     "output_type": "display_data"
    },
    {
     "data": {},
     "metadata": {},
     "output_type": "display_data"
    }
   ],
   "source": [
    "# Set plot style\n",
    "plt.style.use(\"seaborn-v0_8-white\")\n",
    "# Define custom colors\n",
    "psnr_colors = [\"#779ECC\", \"#4F81BD\", \"#2E5984\", \"#1A3D6D\"]  # Shades of blue for PSNR\n",
    "ssim_colors = [\"#FF985A\", \"#E07B39\", \"#C06321\", \"#9E480E\"]  # Shades of orange for SSIM\n",
    "noisy_psnr_color = \"#1f77b4\"  # Dark blue for noisy threshold\n",
    "noisy_ssim_color = \"#d62728\"  # Dark red for noisy threshold\n",
    "\n",
    "# Iterate over each noise type\n",
    "for noise in df['Noise Type'].unique():\n",
    "    filters = df['Filter'].unique()\n",
    "    filters = [f for f in filters if f != \"Noisy\"]  # Exclude noisy from x-axis labels\n",
    "\n",
    "    x = np.arange(len(filters))  # X positions for each filter\n",
    "    bar_width = 0.1  # Narrower bars to fit all intensities\n",
    "\n",
    "    fig, ax1 = plt.subplots(figsize=(12, 6))\n",
    "\n",
    "    # Create twin y-axis\n",
    "    ax2 = ax1.twinx()\n",
    "\n",
    "    # Iterate over intensities\n",
    "    for i, intensity in enumerate(df['Intensity'].unique()):\n",
    "        # Filter data for specific intensity\n",
    "        sub_df = df[(df['Noise Type'] == noise) & (df['Intensity'] == intensity)]\n",
    "        \n",
    "        if sub_df.empty:\n",
    "            continue\n",
    "\n",
    "        # Extract noisy PSNR & SSIM for reference lines\n",
    "        noisy_psnr = sub_df[sub_df['Filter'] == 'Noisy']['PSNR'].values[0]\n",
    "        noisy_ssim = sub_df[sub_df['Filter'] == 'Noisy']['SSIM'].values[0]\n",
    "\n",
    "        # Remove noisy row for plotting\n",
    "        sub_df = sub_df[sub_df['Filter'] != 'Noisy']\n",
    "\n",
    "        # PSNR Bars (Left Y-axis)\n",
    "        ax1.bar(x + (i - 2) * bar_width, sub_df['PSNR'], width=bar_width, color=psnr_colors[i], label=f'PSNR {intensity}', alpha=0.9, edgecolor=\"black\")\n",
    "\n",
    "        # SSIM Bars (Right Y-axis)\n",
    "        ax2.bar(x + (i + 2) * bar_width, sub_df['SSIM'], width=bar_width, color=ssim_colors[i], label=f'SSIM {intensity}', alpha=0.9, edgecolor=\"black\")\n",
    "\n",
    "        # Reference lines (only for first iteration to avoid redundancy)\n",
    "        if i == 0:\n",
    "            ax1.axhline(y=noisy_psnr, color=noisy_psnr_color, linestyle='dashed', linewidth=2, label='Noisy PSNR')\n",
    "            ax2.axhline(y=noisy_ssim, color=noisy_ssim_color, linestyle='dashed', linewidth=2, label='Noisy SSIM')\n",
    "\n",
    "    # Y-axis settings\n",
    "    ax1.set_ylabel('PSNR', color=noisy_psnr_color, fontsize=12, fontweight='bold')\n",
    "    ax1.set_ylim(0, 60)\n",
    "    \n",
    "    ax2.set_ylabel('SSIM', color=noisy_ssim_color, fontsize=12, fontweight='bold')\n",
    "    ax2.set_ylim(0, 1.2)\n",
    "\n",
    "    # X-axis settings\n",
    "    ax1.set_xticks(x)\n",
    "    ax1.set_xticklabels(filters, fontsize=11, fontweight='bold')\n",
    "\n",
    "    # Titles and legends\n",
    "    plt.title(f'PSNR & SSIM for {noise} Across Intensities', fontsize=14, fontweight='bold', color=\"black\")\n",
    "    ax1.legend(loc='upper left', fontsize=10)\n",
    "    ax2.legend(loc='upper right', fontsize=10)\n",
    "\n",
    "    # Improve layout\n",
    "    plt.tight_layout()\n",
    "\n",
    "    # Save and show\n",
    "    save_path = f'output_images/histograms/{noise}_comparison.png'\n",
    "    os.makedirs(os.path.dirname(save_path), exist_ok=True)\n",
    "    plt.savefig(save_path, dpi=300, bbox_inches='tight')\n",
    "    plt.show()"
   ]
  }
 ],
 "metadata": {
  "kernelspec": {
   "display_name": "gen_env",
   "language": "python",
   "name": "python3"
  },
  "language_info": {
   "codemirror_mode": {
    "name": "ipython",
    "version": 3
   },
   "file_extension": ".py",
   "mimetype": "text/x-python",
   "name": "python",
   "nbconvert_exporter": "python",
   "pygments_lexer": "ipython3",
   "version": "3.10.16"
  }
 },
 "nbformat": 4,
 "nbformat_minor": 2
}

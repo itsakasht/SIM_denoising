{
 "cells": [
  {
   "cell_type": "code",
   "execution_count": 38,
   "metadata": {},
   "outputs": [
    {
     "name": "stdout",
     "output_type": "stream",
     "text": []
    }
   ],
   "source": [
    "import numpy as np\n",
    "import optics as op\n",
    "import matplotlib.pyplot as plt\n",
    "import skimage as ski\n",
    "import importlib\n",
    "import os\n",
    "importlib.reload(op)"
   ]
  },
  {
   "cell_type": "code",
   "execution_count": 39,
   "metadata": {},
   "outputs": [
    {
     "name": "stdout",
     "output_type": "stream",
     "text": []
    },
    {
     "name": "stdout",
     "output_type": "stream",
     "text": []
    }
   ],
   "source": [
    "NA = 1.2\n",
    "wavelength = 400\n",
    "pixelsize = 100\n",
    "H = 255\n",
    "W = 255\n",
    "fc = NA / wavelength  # Cutoff frequency\n",
    "fx = np.fft.fftshift(np.fft.fftfreq(W, pixelsize))  # Normalized frequency coordinates\n",
    "fy = np.fft.fftshift(np.fft.fftfreq(H, pixelsize))\n",
    "\n",
    "FX, FY = np.meshgrid(fx, fy)\n",
    "f = np.sqrt(FX**2 + FY**2)  # Spatial frequency magnitude\n",
    "\n",
    "# Compute OTF based on the diffraction-limited incoherent system\n",
    "OTF = np.zeros_like(f)\n",
    "mask = f <= fc\n",
    "OTF[mask] = (2 / np.pi) * (np.arccos(f[mask] / fc) - (f[mask] / fc) * np.sqrt(1 - (f[mask] / fc) ** 2))\n",
    "# Example 2D matrix\n",
    "\n",
    "# Create a 3D plot\n",
    "fig, ax = plt.subplots(subplot_kw={\"projection\": \"3d\"})\n",
    "# Plot the surface\n",
    "ax.plot_surface(FX, FY, OTF, cmap='viridis')\n",
    "ax.set_title('Incoherent OTF')\n",
    "# Show the plot\n",
    "plt.show()\n",
    "\n",
    "r = 64\n",
    "y, x = np.ogrid[:H, :W]\n",
    "center = (H // 2, W // 2)\n",
    "mask = (x - center[1])**2 + (y - center[0])**2 <= r**2\n",
    "\n",
    "# Create a 3D plot\n",
    "fig, ax = plt.subplots(subplot_kw={\"projection\": \"3d\"})\n",
    "# Plot the surface\n",
    "ax.plot_surface(x, y, mask, cmap='viridis')\n",
    "ax.set_title('Circular OTF')\n",
    "# Show the plot\n",
    "plt.show()"
   ]
  },
  {
   "cell_type": "code",
   "execution_count": 40,
   "metadata": {},
   "outputs": [
    {
     "name": "stdout",
     "output_type": "stream",
     "text": []
    }
   ],
   "source": [
    "img = ski.io.imread('output_images/synthetic_grated_256_sim.tif')[:, :, 0]\n",
    "plt.figure(figsize=(10, 5))\n",
    "# plt.subplot(1, 2, 1)\n",
    "# plt.imshow(img, cmap='gray')\n",
    "# plt.axis('off')\n",
    "# plt.title('Original Image')\n",
    "\n",
    "ft = np.fft.fftshift(np.fft.fft2(img))\n",
    "magnitude = np.log(np.abs(ft) + 1)\n",
    "plt.subplot(1, 1, 1)\n",
    "plt.imshow(magnitude, cmap='gray')\n",
    "plt.title('Fourier Transform')\n",
    "plt.axis('off')\n",
    "plt.show()"
   ]
  },
  {
   "cell_type": "code",
   "execution_count": 41,
   "metadata": {},
   "outputs": [],
   "source": [
    "original = ski.color.rgb2gray(ski.io.imread('source_images/Synthetic512.png'))\n",
    "clean_sim = ski.io.imread('output_images/synthetic_grated_256_sim.tif')[:, :, 0]\n",
    "\n",
    "# Noise types and intensity levels\n",
    "noise_types = ['gaussian_noise', 'poisson_noise', 'saltpepper_noise']\n",
    "intensities = ['1percent_noise', '5percent_noise', '10percent_noise', '20percent_noise']\n",
    "\n",
    "# Filters used for denoising\n",
    "filter_names = ['wiener', 'tv', 'bm3d', 'rl']\n",
    "image_prefix = 'synthetic_grated_256_sim'\n",
    "\n",
    "folder_path = f'output_images/{noise_types[0]}/{intensities[1]}/'\n",
    "\n",
    "\n",
    "noisy_sim = ski.io.imread(os.path.join(folder_path, 'noisy_image_256_sim.tif'))[:, :, 0]\n",
    "wiener_sim = ski.io.imread(os.path.join(folder_path, f'{filter_names[0]}_{image_prefix}.tif'))[:, :, 0]\n",
    "tv_sim = ski.io.imread(os.path.join(folder_path, f'{filter_names[1]}_{image_prefix}.tif'))[:, :, 0]\n",
    "bm3d_sim = ski.io.imread(os.path.join(folder_path, f'{filter_names[2]}_{image_prefix}.tif'))[:, :, 0]\n",
    "rl_sim = ski.io.imread(os.path.join(folder_path, f'{filter_names[3]}_{image_prefix}.tif'))[:, :, 0]\n"
   ]
  },
  {
   "cell_type": "code",
   "execution_count": 42,
   "metadata": {},
   "outputs": [
    {
     "name": "stdout",
     "output_type": "stream",
     "text": []
    }
   ],
   "source": [
    "\n",
    "# Plot the images\n",
    "metric = original\n",
    "bins = 30\n",
    "frc = np.zeros((5, 2, bins))\n",
    "frc[0][0], frc[0][1] = op.frc(metric, noisy_sim, bins)\n",
    "frc[1][0], frc[1][1] = op.frc(metric, wiener_sim, bins)\n",
    "frc[2][0], frc[2][1] = op.frc(metric, tv_sim, bins)\n",
    "frc[3][0], frc[3][1] = op.frc(metric, bm3d_sim, bins)\n",
    "frc[4][0], frc[4][1] = op.frc(metric, rl_sim, bins)\n",
    "\n",
    "# Plot the FRC curve\n",
    "plt.figure(figsize=(6, 4))\n",
    "plt.plot(frc[0][1], frc[0][0], label=\"Noisy\", linewidth=2)\n",
    "plt.plot(frc[1][1], frc[1][0], label=\"RL\")\n",
    "plt.plot(frc[2][1], frc[2][0], label=\"BM3D\")\n",
    "plt.plot(frc[3][1], frc[3][0], label=\"TV\")\n",
    "plt.plot(frc[4][1], frc[4][0], label=\"Wiener\")\n",
    "plt.axhline(y=1/np.sqrt(2), color='grey', linestyle='--', label=\"1/2-bit Threshold\")\n",
    "plt.xlabel(\"Spatial Frequency (cycles per pixel)\")\n",
    "plt.ylabel(\"FRC\")\n",
    "plt.title(\"Fourier Ring Correlation with Original Image\")\n",
    "plt.legend()\n",
    "plt.grid()\n",
    "plt.show()"
   ]
  },
  {
   "cell_type": "code",
   "execution_count": 43,
   "metadata": {},
   "outputs": [
    {
     "name": "stdout",
     "output_type": "stream",
     "text": []
    }
   ],
   "source": [
    "# Plot the images\n",
    "metric = clean_sim\n",
    "bins = 30\n",
    "frc = np.zeros((5, 2, bins))\n",
    "frc[0][0], frc[0][1] = op.frc(metric, noisy_sim, bins)\n",
    "frc[1][0], frc[1][1] = op.frc(metric, wiener_sim, bins)\n",
    "frc[2][0], frc[2][1] = op.frc(metric, tv_sim, bins)\n",
    "frc[3][0], frc[3][1] = op.frc(metric, bm3d_sim, bins)\n",
    "frc[4][0], frc[4][1] = op.frc(metric, rl_sim, bins)\n",
    "\n",
    "# Plot the FRC curve\n",
    "plt.figure(figsize=(6, 4))\n",
    "plt.plot(frc[0][1], frc[0][0], label=\"Noisy\", linewidth=2)\n",
    "plt.plot(frc[1][1], frc[1][0], label=\"RL\")\n",
    "plt.plot(frc[2][1], frc[2][0], label=\"BM3D\")\n",
    "plt.plot(frc[3][1], frc[3][0], label=\"TV\")\n",
    "plt.plot(frc[4][1], frc[4][0], label=\"Wiener\")\n",
    "plt.axhline(y=1/np.sqrt(2), color='grey', linestyle='--', label=\"1/2-bit Threshold\")\n",
    "plt.xlabel(\"Spatial Frequency (cycles per pixel)\")\n",
    "plt.ylabel(\"FRC\")\n",
    "plt.title(\"Fourier Ring Correlation with Noise free SIM Image\")\n",
    "plt.legend()\n",
    "plt.grid()\n",
    "plt.show()"
   ]
  },
  {
   "cell_type": "code",
   "execution_count": 45,
   "metadata": {},
   "outputs": [
    {
     "name": "stdout",
     "output_type": "stream",
     "text": []
    }
   ],
   "source": [
    "bins = 30\n",
    "frc = np.zeros((1, 2, bins))\n",
    "frc[0][0], frc[0][1] = op.frc(original, clean_sim, bins)\n",
    "\n",
    "\n",
    "# Plot the FRC curve\n",
    "plt.figure(figsize=(6, 4))\n",
    "plt.plot(frc[0][1], frc[0][0], label=\"Noise free\", linewidth=2)\n",
    "plt.axhline(y=1/np.sqrt(2), color='grey', linestyle='--', label=\"1/2-bit Threshold\")\n",
    "plt.xlabel(\"Spatial Frequency (cycles per pixel)\")\n",
    "plt.ylabel(\"FRC\")\n",
    "plt.title(\"Fourier Ring Correlation of Noise free SIM and Original Image\")\n",
    "plt.legend()\n",
    "plt.grid()\n",
    "plt.show()"
   ]
  }
 ],
 "metadata": {
  "kernelspec": {
   "display_name": "gen_env",
   "language": "python",
   "name": "python3"
  },
  "language_info": {
   "codemirror_mode": {
    "name": "ipython",
    "version": 3
   },
   "file_extension": ".py",
   "mimetype": "text/x-python",
   "name": "python",
   "nbconvert_exporter": "python",
   "pygments_lexer": "ipython3",
   "version": "3.10.16"
  }
 },
 "nbformat": 4,
 "nbformat_minor": 2
}
